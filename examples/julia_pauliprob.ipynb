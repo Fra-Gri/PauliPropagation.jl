{
 "cells": [
  {
   "cell_type": "code",
   "execution_count": 11,
   "metadata": {},
   "outputs": [],
   "source": [
    "using PauliPropagation"
   ]
  },
  {
   "cell_type": "markdown",
   "metadata": {},
   "source": [
    "## First pauli propagation and truncation test"
   ]
  },
  {
   "cell_type": "code",
   "execution_count": 2,
   "metadata": {},
   "outputs": [
    {
     "data": {
      "text/plain": [
       "64"
      ]
     },
     "metadata": {},
     "output_type": "display_data"
    }
   ],
   "source": [
    "nq = 64"
   ]
  },
  {
   "cell_type": "code",
   "execution_count": 3,
   "metadata": {},
   "outputs": [
    {
     "data": {
      "text/plain": [
       "PauliString(nqubits: 64, 1.0 * IIIIIIIIIIIIIIIIIIII...)"
      ]
     },
     "metadata": {},
     "output_type": "display_data"
    }
   ],
   "source": [
    "pstr = PauliString(nq, :Z, round(Int, nq/2))"
   ]
  },
  {
   "cell_type": "code",
   "execution_count": null,
   "metadata": {},
   "outputs": [
    {
     "ename": "UndefVarError",
     "evalue": "UndefVarError: `topo` not defined in `Main`\nSuggestion: check for spelling errors or missing imports.",
     "output_type": "error",
     "traceback": [
      "UndefVarError: `topo` not defined in `Main`\n",
      "Suggestion: check for spelling errors or missing imports.\n",
      "\n",
      "Stacktrace:\n",
      " [1] top-level scope\n",
      "   @ ~/Library/CloudStorage/OneDrive-Algorithmiq/Desktop/Codes/PauliPathjl/PauliPropagation.jl/examples/jl_notebook_cell_df34fa98e69747e1a8f8a730347b8e2f_Y116sZmlsZQ==.jl:3"
     ]
    }
   ],
   "source": [
    "nl = 4\n",
    "topology = bricklayertopology(nq; periodic=false)\n",
    "circuit = hardwareefficientcircuit(nq, nl; topology=topology)\n",
    "nparams = countparameters(circuit)"
   ]
  },
  {
   "cell_type": "code",
   "execution_count": 5,
   "metadata": {},
   "outputs": [
    {
     "ename": "UndefVarError",
     "evalue": "UndefVarError: `nparams` not defined in `Main`\nSuggestion: check for spelling errors or missing imports.",
     "output_type": "error",
     "traceback": [
      "UndefVarError: `nparams` not defined in `Main`\n",
      "Suggestion: check for spelling errors or missing imports.\n",
      "\n",
      "Stacktrace:\n",
      " [1] top-level scope\n",
      "   @ ~/Library/CloudStorage/OneDrive-Algorithmiq/Desktop/Codes/PauliPathjl/PauliPropagation.jl/examples/jl_notebook_cell_df34fa98e69747e1a8f8a730347b8e2f_Y120sZmlsZQ==.jl:2"
     ]
    }
   ],
   "source": [
    "using Random\n",
    "Random.seed!(42)\n",
    "thetas = randn(nparams);\n"
   ]
  },
  {
   "cell_type": "code",
   "execution_count": 18,
   "metadata": {},
   "outputs": [
    {
     "name": "stdout",
     "output_type": "stream",
     "text": [
      "  0.620217 seconds (2.17 k allocations: 33.391 MiB, 9.20% gc time)\n"
     ]
    },
    {
     "data": {
      "text/plain": [
       "PauliSum(nqubits: 64, 164692 Pauli terms:\n",
       " 4.027e-9 * IIIIIIIIIIIIIIIIIIII...\n",
       " -5.3954e-9 * IIIIIIIIIIIIIIIIIIII...\n",
       " 5.4961e-5 * IIIIIIIIIIIIIIIIIIII...\n",
       " 6.1435e-5 * IIIIIIIIIIIIIIIIIIII...\n",
       " 3.0334e-8 * IIIIIIIIIIIIIIIIIIII...\n",
       " 5.3742e-9 * IIIIIIIIIIIIIIIIIIII...\n",
       " -4.3295e-8 * IIIIIIIIIIIIIIIIIIII...\n",
       " 1.6012e-8 * IIIIIIIIIIIIIIIIIIII...\n",
       " -2.4033e-8 * IIIIIIIIIIIIIIIIIIII...\n",
       " 7.8656e-7 * IIIIIIIIIIIIIIIIIIII...\n",
       " -9.4308e-5 * IIIIIIIIIIIIIIIIIIII...\n",
       " -2.3263e-6 * IIIIIIIIIIIIIIIIIIII...\n",
       " -1.4941e-8 * IIIIIIIIIIIIIIIIIIII...\n",
       " 2.2601e-9 * IIIIIIIIIIIIIIIIIIII...\n",
       " -8.2387e-7 * IIIIIIIIIIIIIIIIIIII...\n",
       " -7.4329e-9 * IIIIIIIIIIIIIIIIIIII...\n",
       " -1.06e-7 * IIIIIIIIIIIIIIIIIIII...\n",
       " -4.3301e-8 * IIIIIIIIIIIIIIIIIIII...\n",
       " -5.4605e-7 * IIIIIIIIIIIIIIIIIIII...\n",
       " -4.3812e-6 * IIIIIIIIIIIIIIIIIIII...\n",
       "  ⋮)"
      ]
     },
     "execution_count": 18,
     "metadata": {},
     "output_type": "execute_result"
    }
   ],
   "source": [
    "@time psum = propagate(circuit, pstr, thetas)"
   ]
  },
  {
   "cell_type": "code",
   "execution_count": 19,
   "metadata": {},
   "outputs": [
    {
     "data": {
      "text/plain": [
       "0.31961629594501484"
      ]
     },
     "execution_count": 19,
     "metadata": {},
     "output_type": "execute_result"
    }
   ],
   "source": [
    "overlapwithzero(psum)"
   ]
  },
  {
   "cell_type": "code",
   "execution_count": 20,
   "metadata": {},
   "outputs": [
    {
     "name": "stdout",
     "output_type": "stream",
     "text": [
      "  0.148307 seconds (123.65 k allocations: 8.190 MiB, 51.29% compilation time)\n"
     ]
    },
    {
     "data": {
      "text/plain": [
       "PauliSum(nqubits: 64, 16453 Pauli terms:\n",
       " -1.6207e-5 * IIIIIIIIIIIIIIIIIIII...\n",
       " 0.011987 * IIIIIIIIIIIIIIIIIIII...\n",
       " 7.3032e-5 * IIIIIIIIIIIIIIIIIIII...\n",
       " 7.8792e-8 * IIIIIIIIIIIIIIIIIIII...\n",
       " 6.5435e-10 * IIIIIIIIIIIIIIIIIIII...\n",
       " -9.1272e-9 * IIIIIIIIIIIIIIIIIIII...\n",
       " 1.8143e-8 * IIIIIIIIIIIIIIIIIIII...\n",
       " 1.7645e-10 * IIIIIIIIIIIIIIIIIIII...\n",
       " 0.00019728 * IIIIIIIIIIIIIIIIIIII...\n",
       " 0.00018569 * IIIIIIIIIIIIIIIIIIII...\n",
       " 0.00034955 * IIIIIIIIIIIIIIIIIIII...\n",
       " 7.9429e-6 * IIIIIIIIIIIIIIIIIIII...\n",
       " 0.0016765 * IIIIIIIIIIIIIIIIIIII...\n",
       " -1.2376e-8 * IIIIIIIIIIIIIIIIIIII...\n",
       " 2.6325e-7 * IIIIIIIIIIIIIIIIIIII...\n",
       " -0.00047972 * IIIIIIIIIIIIIIIIIIII...\n",
       " 6.0018e-10 * IIIIIIIIIIIIIIIIIIII...\n",
       " 0.00088951 * IIIIIIIIIIIIIIIIIIII...\n",
       " -4.7825e-6 * IIIIIIIIIIIIIIIIIIII...\n",
       " -9.0788e-5 * IIIIIIIIIIIIIIIIIIII...\n",
       "  ⋮)"
      ]
     },
     "execution_count": 20,
     "metadata": {},
     "output_type": "execute_result"
    }
   ],
   "source": [
    "max_weight = 5\n",
    "@time psum_weight = propagate(circuit, pstr, thetas; max_weight = max_weight)"
   ]
  },
  {
   "cell_type": "markdown",
   "metadata": {},
   "source": [
    "## Custom gates"
   ]
  },
  {
   "cell_type": "code",
   "execution_count": 21,
   "metadata": {},
   "outputs": [],
   "source": [
    "struct SWAPgate <: StaticGate\n",
    "    qinds::Tuple{Int, Int}\n",
    "end"
   ]
  },
  {
   "cell_type": "code",
   "execution_count": 22,
   "metadata": {},
   "outputs": [],
   "source": [
    "# define apply function for SWAPgate\n",
    "function PauliPropagation.apply(gate::SWAPgate, pstr, theta, coefficients; kwargs...)\n",
    "    # get Pauli on the first site \n",
    "    pauli1 = getpauli(pstr, gate.qinds[1])\n",
    "    # get Pauli on the second site \n",
    "    pauli2 = getpauli(pstr, gate.qinds[2])\n",
    "\n",
    "    # set the Pauli on the first site to the second Pauli\n",
    "    pstr = setpauli(pstr, pauli2, gate.qinds[1])\n",
    "    # set the Pauli on the first site to the first Pauli \n",
    "    pstr = setpauli(pstr, pauli1, gate.qinds[2])\n",
    "\n",
    "    return pstr, coefficients\n",
    "end"
   ]
  },
  {
   "cell_type": "code",
   "execution_count": 29,
   "metadata": {},
   "outputs": [],
   "source": [
    "nq = 21\n",
    "# 1d linear topology. default periodic: false\n",
    "topology = bricklayertopology(nq);"
   ]
  },
  {
   "cell_type": "code",
   "execution_count": 30,
   "metadata": {},
   "outputs": [
    {
     "data": {
      "text/plain": [
       "123"
      ]
     },
     "execution_count": 30,
     "metadata": {},
     "output_type": "execute_result"
    }
   ],
   "source": [
    "nl = 3 \n",
    "base_circuit = tfitrottercircuit(nq, nl; topology=topology)\n",
    "nparams = countparameters(base_circuit)"
   ]
  },
  {
   "cell_type": "code",
   "execution_count": 31,
   "metadata": {},
   "outputs": [
    {
     "data": {
      "text/plain": [
       "PauliString(nqubits: 21, 1.0 * IIIIIIZIIIIIZIIIIIII...)"
      ]
     },
     "execution_count": 31,
     "metadata": {},
     "output_type": "execute_result"
    }
   ],
   "source": [
    "pstr = PauliString(nq, [:Z, :Z], [7, 13])"
   ]
  },
  {
   "cell_type": "code",
   "execution_count": 32,
   "metadata": {},
   "outputs": [
    {
     "data": {
      "text/plain": [
       "123-element Vector{Float64}:\n",
       " -0.36335748145177754\n",
       "  0.2517372155742292\n",
       " -0.31498797116895605\n",
       " -0.31125240132442067\n",
       "  0.8163067649323273\n",
       "  0.47673837983187795\n",
       " -0.8595553820616212\n",
       " -1.4692882055065464\n",
       " -2.114334831130985\n",
       "  0.04378166203061088\n",
       " -0.8253345499750688\n",
       "  0.840288523245819\n",
       "  0.4338858743048611\n",
       "  ⋮\n",
       " -0.27271841265920194\n",
       " -0.8351828409416799\n",
       "  0.9552537029900053\n",
       "  1.2438797492400726\n",
       "  0.6091662702133595\n",
       " -0.3407882587838508\n",
       " -1.8623610290958061\n",
       " -1.8071566859269461\n",
       " -0.30215190432626304\n",
       " -0.20661311448119266\n",
       " -0.31074387308373413\n",
       " -0.040473400248354906"
      ]
     },
     "execution_count": 32,
     "metadata": {},
     "output_type": "execute_result"
    }
   ],
   "source": [
    "using Random\n",
    "Random.seed!(42)\n",
    "thetas = randn(nparams)"
   ]
  },
  {
   "cell_type": "code",
   "execution_count": 33,
   "metadata": {},
   "outputs": [
    {
     "data": {
      "text/plain": [
       "4"
      ]
     },
     "execution_count": 33,
     "metadata": {},
     "output_type": "execute_result"
    }
   ],
   "source": [
    "max_weight = 4"
   ]
  },
  {
   "cell_type": "code",
   "execution_count": 34,
   "metadata": {},
   "outputs": [
    {
     "name": "stdout",
     "output_type": "stream",
     "text": [
      "  0.152108 seconds (368.86 k allocations: 18.251 MiB, 2.52% gc time, 99.72% compilation time)\n"
     ]
    },
    {
     "data": {
      "text/plain": [
       "PauliSum(nqubits: 21, 194 Pauli terms:\n",
       " 4.5691e-6 * IIIIIIYIIIIZIYZIIIII...\n",
       " 0.0039723 * IIIIIIXYIIIIZIIIIIII...\n",
       " 1.6824e-6 * IIIIIYXIIIIXIYIIIIII...\n",
       " -1.7443e-5 * IIIIYXIXIIIIZIIIIIII...\n",
       " -0.060822 * IIIIIZXIIIIIXZIIIIII...\n",
       " 0.0010823 * IIIIIIXYIIIYXIIIIIII...\n",
       " 0.067264 * IIIIIIXZIIIYXIIIIIII...\n",
       " 0.00020843 * IIIIIXYXIIIIZIIIIIII...\n",
       " 0.0024923 * IIIIIYXIIIIIXYIIIIII...\n",
       " 0.047715 * IIIIIIZIIIIZZZIIIIII...\n",
       " 1.1128e-5 * IIIIXIIYIIIIYIIIIIII...\n",
       " 0.034974 * IIIIIZZZIIIIZIIIIIII...\n",
       " 0.002254 * IIIIIXZXIIIIZIIIIIII...\n",
       " 0.0015483 * IIIIIIZIIIIZYYIIIIII...\n",
       " 0.020889 * IIIIIIYIIIIXIYIIIIII...\n",
       " 0.040219 * IIIIIIZIIIIYYZIIIIII...\n",
       " 7.5591e-7 * IIIIIIYIIIIYIYZIIIII...\n",
       " -7.0324e-5 * IIIIXIIZIIIIYIIIIIII...\n",
       " 0.00033187 * IIIIIIZIIIIZIXIIIIII...\n",
       " -2.2795e-5 * IIIIZZIZIIIIZIIIIIII...\n",
       "  ⋮)"
      ]
     },
     "execution_count": 34,
     "metadata": {},
     "output_type": "execute_result"
    }
   ],
   "source": [
    "@time base_psum = propagate(base_circuit, pstr, thetas; max_weight = max_weight)\n",
    "base_psum"
   ]
  },
  {
   "cell_type": "markdown",
   "metadata": {},
   "source": [
    "## Create clifford gates of Algo circuit"
   ]
  },
  {
   "cell_type": "code",
   "execution_count": 24,
   "metadata": {},
   "outputs": [
    {
     "data": {
      "text/plain": [
       "Dict{Symbol, Vector{Tuple{Int64, UInt8}}} with 10 entries:\n",
       "  :Z        => [(1, 0x00), (-1, 0x01), (-1, 0x02), (1, 0x03)]\n",
       "  :ZZpihalf => [(1, 0x00), (1, 0x0e), (-1, 0x0d), (1, 0x03), (1, 0x0b), (1, 0x0…\n",
       "  :SX       => [(1, 0x00), (1, 0x01), (-1, 0x03), (1, 0x02)]\n",
       "  :ECR      => [(1, 0x00), (-1, 0x06), (-1, 0x05), (-1, 0x03), (-1, 0x02), (-1,…\n",
       "  :H        => [(1, 0x00), (1, 0x03), (-1, 0x02), (1, 0x01)]\n",
       "  :CNOT     => [(1, 0x00), (1, 0x05), (1, 0x06), (1, 0x03), (1, 0x04), (1, 0x01…\n",
       "  :S        => [(1, 0x00), (-1, 0x02), (1, 0x01), (1, 0x03)]\n",
       "  :X        => [(1, 0x00), (1, 0x01), (-1, 0x02), (-1, 0x03)]\n",
       "  :Y        => [(1, 0x00), (-1, 0x01), (1, 0x02), (1, 0x03)]\n",
       "  :SWAP     => [(1, 0x00), (1, 0x04), (1, 0x08), (1, 0x0c), (1, 0x01), (1, 0x05…"
      ]
     },
     "execution_count": 24,
     "metadata": {},
     "output_type": "execute_result"
    }
   ],
   "source": [
    "push!(clifford_map, :ECR => [(1, 0x00), (-1, 0x06), (-1, 0x05), (-1, 0x03), (-1, 0x02), (-1, 0x01), (1, 0x02), (-1, 0x07), (-1, 0x0f), (1, 0x09), (-1, 0x0a), (1, 0x0c), (1, 0x0b), (-1, 0x0d), (1, 0x0e), (1, 0x08)])"
   ]
  },
  {
   "cell_type": "code",
   "execution_count": 19,
   "metadata": {},
   "outputs": [
    {
     "data": {
      "text/plain": [
       "4-element Vector{Tuple{Int64, UInt8}}:\n",
       " (1, 0x00)\n",
       " (1, 0x01)\n",
       " (-1, 0x03)\n",
       " (1, 0x02)"
      ]
     },
     "execution_count": 19,
     "metadata": {},
     "output_type": "execute_result"
    }
   ],
   "source": [
    "sx_map = createcliffordmap(Dict(\n",
    "    (:I,) => (1, :I),\n",
    "    (:X,) => (1, :X),\n",
    "    (:Y,) => (-1, :Z),\n",
    "    (:Z,) => (1, :Y)\n",
    "))"
   ]
  },
  {
   "cell_type": "code",
   "execution_count": 21,
   "metadata": {},
   "outputs": [
    {
     "data": {
      "text/plain": [
       "Dict{Symbol, Vector{Tuple{Int64, UInt8}}} with 9 entries:\n",
       "  :Z        => [(1, 0x00), (-1, 0x01), (-1, 0x02), (1, 0x03)]\n",
       "  :ZZpihalf => [(1, 0x00), (1, 0x0e), (-1, 0x0d), (1, 0x03), (1, 0x0b), (1, 0x0…\n",
       "  :SX       => [(1, 0x00), (1, 0x01), (-1, 0x03), (1, 0x02)]\n",
       "  :H        => [(1, 0x00), (1, 0x03), (-1, 0x02), (1, 0x01)]\n",
       "  :CNOT     => [(1, 0x00), (1, 0x05), (1, 0x06), (1, 0x03), (1, 0x04), (1, 0x01…\n",
       "  :S        => [(1, 0x00), (-1, 0x02), (1, 0x01), (1, 0x03)]\n",
       "  :X        => [(1, 0x00), (1, 0x01), (-1, 0x02), (-1, 0x03)]\n",
       "  :Y        => [(1, 0x00), (-1, 0x01), (1, 0x02), (1, 0x03)]\n",
       "  :SWAP     => [(1, 0x00), (1, 0x04), (1, 0x08), (1, 0x0c), (1, 0x01), (1, 0x05…"
      ]
     },
     "execution_count": 21,
     "metadata": {},
     "output_type": "execute_result"
    }
   ],
   "source": [
    "push!(clifford_map, :SX => sx_map)"
   ]
  },
  {
   "cell_type": "code",
   "execution_count": 26,
   "metadata": {},
   "outputs": [
    {
     "data": {
      "text/plain": [
       "Dict{Symbol, Vector{Tuple{Int64, UInt8}}} with 10 entries:\n",
       "  :Z        => [(1, 0x00), (-1, 0x01), (-1, 0x02), (1, 0x03)]\n",
       "  :ZZpihalf => [(1, 0x00), (1, 0x0e), (-1, 0x0d), (1, 0x03), (1, 0x0b), (1, 0x0…\n",
       "  :SX       => [(1, 0x00), (1, 0x01), (-1, 0x03), (1, 0x02)]\n",
       "  :ECR      => [(1, 0x00), (-1, 0x06), (-1, 0x05), (-1, 0x03), (-1, 0x02), (-1,…\n",
       "  :H        => [(1, 0x00), (1, 0x03), (-1, 0x02), (1, 0x01)]\n",
       "  :CNOT     => [(1, 0x00), (1, 0x05), (1, 0x06), (1, 0x03), (1, 0x04), (1, 0x01…\n",
       "  :S        => [(1, 0x00), (-1, 0x02), (1, 0x01), (1, 0x03)]\n",
       "  :X        => [(1, 0x00), (1, 0x01), (-1, 0x02), (-1, 0x03)]\n",
       "  :Y        => [(1, 0x00), (-1, 0x01), (1, 0x02), (1, 0x03)]\n",
       "  :SWAP     => [(1, 0x00), (1, 0x04), (1, 0x08), (1, 0x0c), (1, 0x01), (1, 0x05…"
      ]
     },
     "execution_count": 26,
     "metadata": {},
     "output_type": "execute_result"
    }
   ],
   "source": [
    "clifford_map"
   ]
  },
  {
   "cell_type": "markdown",
   "metadata": {},
   "source": [
    "## Testing importing circuit from qiskit"
   ]
  },
  {
   "cell_type": "code",
   "execution_count": 27,
   "metadata": {},
   "outputs": [],
   "source": [
    "using CSV, DataFrames"
   ]
  },
  {
   "cell_type": "code",
   "execution_count": 30,
   "metadata": {},
   "outputs": [
    {
     "data": {
      "text/html": [
       "<div><div style = \"float: left;\"><span>660×3 DataFrame</span></div><div style = \"float: right;\"><span style = \"font-style: italic;\">635 rows omitted</span></div><div style = \"clear: both;\"></div></div><div class = \"data-frame\" style = \"overflow-x: scroll;\"><table class = \"data-frame\" style = \"margin-bottom: 6px;\"><thead><tr class = \"header\"><th class = \"rowNumber\" style = \"font-weight: bold; text-align: right;\">Row</th><th style = \"text-align: left;\">Column1</th><th style = \"text-align: left;\">Column2</th><th style = \"text-align: left;\">Column3</th></tr><tr class = \"subheader headerLastRow\"><th class = \"rowNumber\" style = \"font-weight: bold; text-align: right;\"></th><th title = \"String3\" style = \"text-align: left;\">String3</th><th title = \"String31\" style = \"text-align: left;\">String31</th><th title = \"String7\" style = \"text-align: left;\">String7</th></tr></thead><tbody><tr><td class = \"rowNumber\" style = \"font-weight: bold; text-align: right;\">1</td><td style = \"text-align: left;\">rz</td><td style = \"text-align: left;\">[-1.5707963267948968]</td><td style = \"text-align: left;\">[0]</td></tr><tr><td class = \"rowNumber\" style = \"font-weight: bold; text-align: right;\">2</td><td style = \"text-align: left;\">sx</td><td style = \"text-align: left;\">[]</td><td style = \"text-align: left;\">[0]</td></tr><tr><td class = \"rowNumber\" style = \"font-weight: bold; text-align: right;\">3</td><td style = \"text-align: left;\">rz</td><td style = \"text-align: left;\">[4.0123889803846895]</td><td style = \"text-align: left;\">[0]</td></tr><tr><td class = \"rowNumber\" style = \"font-weight: bold; text-align: right;\">4</td><td style = \"text-align: left;\">sx</td><td style = \"text-align: left;\">[]</td><td style = \"text-align: left;\">[0]</td></tr><tr><td class = \"rowNumber\" style = \"font-weight: bold; text-align: right;\">5</td><td style = \"text-align: left;\">rz</td><td style = \"text-align: left;\">[10.995574287564276]</td><td style = \"text-align: left;\">[0]</td></tr><tr><td class = \"rowNumber\" style = \"font-weight: bold; text-align: right;\">6</td><td style = \"text-align: left;\">rz</td><td style = \"text-align: left;\">[-3.141592653589793]</td><td style = \"text-align: left;\">[1]</td></tr><tr><td class = \"rowNumber\" style = \"font-weight: bold; text-align: right;\">7</td><td style = \"text-align: left;\">sx</td><td style = \"text-align: left;\">[]</td><td style = \"text-align: left;\">[1]</td></tr><tr><td class = \"rowNumber\" style = \"font-weight: bold; text-align: right;\">8</td><td style = \"text-align: left;\">rz</td><td style = \"text-align: left;\">[4.71238898038469]</td><td style = \"text-align: left;\">[1]</td></tr><tr><td class = \"rowNumber\" style = \"font-weight: bold; text-align: right;\">9</td><td style = \"text-align: left;\">sx</td><td style = \"text-align: left;\">[]</td><td style = \"text-align: left;\">[1]</td></tr><tr><td class = \"rowNumber\" style = \"font-weight: bold; text-align: right;\">10</td><td style = \"text-align: left;\">rz</td><td style = \"text-align: left;\">[7.853981633974483]</td><td style = \"text-align: left;\">[1]</td></tr><tr><td class = \"rowNumber\" style = \"font-weight: bold; text-align: right;\">11</td><td style = \"text-align: left;\">rz</td><td style = \"text-align: left;\">[1.5707963267948966]</td><td style = \"text-align: left;\">[2]</td></tr><tr><td class = \"rowNumber\" style = \"font-weight: bold; text-align: right;\">12</td><td style = \"text-align: left;\">sx</td><td style = \"text-align: left;\">[]</td><td style = \"text-align: left;\">[2]</td></tr><tr><td class = \"rowNumber\" style = \"font-weight: bold; text-align: right;\">13</td><td style = \"text-align: left;\">rz</td><td style = \"text-align: left;\">[4.71238898038469]</td><td style = \"text-align: left;\">[2]</td></tr><tr><td style = \"text-align: right;\">&vellip;</td><td style = \"text-align: right;\">&vellip;</td><td style = \"text-align: right;\">&vellip;</td><td style = \"text-align: right;\">&vellip;</td></tr><tr><td class = \"rowNumber\" style = \"font-weight: bold; text-align: right;\">649</td><td style = \"text-align: left;\">rz</td><td style = \"text-align: left;\">[9.42477796076938]</td><td style = \"text-align: left;\">[9]</td></tr><tr><td class = \"rowNumber\" style = \"font-weight: bold; text-align: right;\">650</td><td style = \"text-align: left;\">ecr</td><td style = \"text-align: left;\">[]</td><td style = \"text-align: left;\">[8, 9]</td></tr><tr><td class = \"rowNumber\" style = \"font-weight: bold; text-align: right;\">651</td><td style = \"text-align: left;\">rz</td><td style = \"text-align: left;\">[1.0754165483947373]</td><td style = \"text-align: left;\">[8]</td></tr><tr><td class = \"rowNumber\" style = \"font-weight: bold; text-align: right;\">652</td><td style = \"text-align: left;\">sx</td><td style = \"text-align: left;\">[]</td><td style = \"text-align: left;\">[8]</td></tr><tr><td class = \"rowNumber\" style = \"font-weight: bold; text-align: right;\">653</td><td style = \"text-align: left;\">rz</td><td style = \"text-align: left;\">[6.283185307179586]</td><td style = \"text-align: left;\">[8]</td></tr><tr><td class = \"rowNumber\" style = \"font-weight: bold; text-align: right;\">654</td><td style = \"text-align: left;\">sx</td><td style = \"text-align: left;\">[]</td><td style = \"text-align: left;\">[8]</td></tr><tr><td class = \"rowNumber\" style = \"font-weight: bold; text-align: right;\">655</td><td style = \"text-align: left;\">rz</td><td style = \"text-align: left;\">[9.629398182369222]</td><td style = \"text-align: left;\">[8]</td></tr><tr><td class = \"rowNumber\" style = \"font-weight: bold; text-align: right;\">656</td><td style = \"text-align: left;\">rz</td><td style = \"text-align: left;\">[0.0]</td><td style = \"text-align: left;\">[9]</td></tr><tr><td class = \"rowNumber\" style = \"font-weight: bold; text-align: right;\">657</td><td style = \"text-align: left;\">sx</td><td style = \"text-align: left;\">[]</td><td style = \"text-align: left;\">[9]</td></tr><tr><td class = \"rowNumber\" style = \"font-weight: bold; text-align: right;\">658</td><td style = \"text-align: left;\">rz</td><td style = \"text-align: left;\">[4.71238898038469]</td><td style = \"text-align: left;\">[9]</td></tr><tr><td class = \"rowNumber\" style = \"font-weight: bold; text-align: right;\">659</td><td style = \"text-align: left;\">sx</td><td style = \"text-align: left;\">[]</td><td style = \"text-align: left;\">[9]</td></tr><tr><td class = \"rowNumber\" style = \"font-weight: bold; text-align: right;\">660</td><td style = \"text-align: left;\">rz</td><td style = \"text-align: left;\">[7.853981633974483]</td><td style = \"text-align: left;\">[9]</td></tr></tbody></table></div>"
      ],
      "text/latex": [
       "\\begin{tabular}{r|ccc}\n",
       "\t& Column1 & Column2 & Column3\\\\\n",
       "\t\\hline\n",
       "\t& String3 & String31 & String7\\\\\n",
       "\t\\hline\n",
       "\t1 & rz & [-1.5707963267948968] & [0] \\\\\n",
       "\t2 & sx & [] & [0] \\\\\n",
       "\t3 & rz & [4.0123889803846895] & [0] \\\\\n",
       "\t4 & sx & [] & [0] \\\\\n",
       "\t5 & rz & [10.995574287564276] & [0] \\\\\n",
       "\t6 & rz & [-3.141592653589793] & [1] \\\\\n",
       "\t7 & sx & [] & [1] \\\\\n",
       "\t8 & rz & [4.71238898038469] & [1] \\\\\n",
       "\t9 & sx & [] & [1] \\\\\n",
       "\t10 & rz & [7.853981633974483] & [1] \\\\\n",
       "\t11 & rz & [1.5707963267948966] & [2] \\\\\n",
       "\t12 & sx & [] & [2] \\\\\n",
       "\t13 & rz & [4.71238898038469] & [2] \\\\\n",
       "\t14 & sx & [] & [2] \\\\\n",
       "\t15 & rz & [7.853981633974483] & [2] \\\\\n",
       "\t16 & ecr & [] & [1, 2] \\\\\n",
       "\t17 & rz & [1.5707963267948966] & [1] \\\\\n",
       "\t18 & sx & [] & [1] \\\\\n",
       "\t19 & rz & [4.71238898038469] & [1] \\\\\n",
       "\t20 & sx & [] & [1] \\\\\n",
       "\t21 & rz & [6.283185307179587] & [1] \\\\\n",
       "\t22 & rz & [2.029084041533709] & [2] \\\\\n",
       "\t23 & sx & [] & [2] \\\\\n",
       "\t24 & rz & [3.1415926535897936] & [2] \\\\\n",
       "\t25 & sx & [] & [2] \\\\\n",
       "\t26 & rz & [6.524897592440773] & [2] \\\\\n",
       "\t27 & ecr & [] & [0, 1] \\\\\n",
       "\t28 & rz & [-3.141592653589793] & [0] \\\\\n",
       "\t29 & sx & [] & [0] \\\\\n",
       "\t30 & rz & [4.71238898038469] & [0] \\\\\n",
       "\t$\\dots$ & $\\dots$ & $\\dots$ & $\\dots$ \\\\\n",
       "\\end{tabular}\n"
      ],
      "text/plain": [
       "\u001b[1m660×3 DataFrame\u001b[0m\n",
       "\u001b[1m Row \u001b[0m│\u001b[1m Column1 \u001b[0m\u001b[1m Column2               \u001b[0m\u001b[1m Column3 \u001b[0m\n",
       "     │\u001b[90m String3 \u001b[0m\u001b[90m String31              \u001b[0m\u001b[90m String7 \u001b[0m\n",
       "─────┼─────────────────────────────────────────\n",
       "   1 │ rz       [-1.5707963267948968]  [0]\n",
       "   2 │ sx       []                     [0]\n",
       "   3 │ rz       [4.0123889803846895]   [0]\n",
       "   4 │ sx       []                     [0]\n",
       "   5 │ rz       [10.995574287564276]   [0]\n",
       "   6 │ rz       [-3.141592653589793]   [1]\n",
       "   7 │ sx       []                     [1]\n",
       "   8 │ rz       [4.71238898038469]     [1]\n",
       "   9 │ sx       []                     [1]\n",
       "  10 │ rz       [7.853981633974483]    [1]\n",
       "  11 │ rz       [1.5707963267948966]   [2]\n",
       "  ⋮  │    ⋮               ⋮               ⋮\n",
       " 651 │ rz       [1.0754165483947373]   [8]\n",
       " 652 │ sx       []                     [8]\n",
       " 653 │ rz       [6.283185307179586]    [8]\n",
       " 654 │ sx       []                     [8]\n",
       " 655 │ rz       [9.629398182369222]    [8]\n",
       " 656 │ rz       [0.0]                  [9]\n",
       " 657 │ sx       []                     [9]\n",
       " 658 │ rz       [4.71238898038469]     [9]\n",
       " 659 │ sx       []                     [9]\n",
       " 660 │ rz       [7.853981633974483]    [9]\n",
       "\u001b[36m                               639 rows omitted\u001b[0m"
      ]
     },
     "execution_count": 30,
     "metadata": {},
     "output_type": "execute_result"
    }
   ],
   "source": [
    "qcdf = CSV.read(\"ki_circ_11.csv\", DataFrame; delim = \",\", header = false)"
   ]
  },
  {
   "cell_type": "code",
   "execution_count": 44,
   "metadata": {},
   "outputs": [
    {
     "data": {
      "text/plain": [
       "\"[-1.5707963267948968]\""
      ]
     },
     "execution_count": 44,
     "metadata": {},
     "output_type": "execute_result"
    }
   ],
   "source": [
    "qcdf.Column2[1]"
   ]
  },
  {
   "cell_type": "code",
   "execution_count": 50,
   "metadata": {},
   "outputs": [
    {
     "ename": "LoadError",
     "evalue": "MethodError: \u001b[0mCannot `convert` an object of type \u001b[92mFloat64\u001b[39m\u001b[0m to an object of type \u001b[91mString31\u001b[39m\nThe function `convert` exists, but no method is defined for this combination of argument types.\n\n\u001b[0mClosest candidates are:\n\u001b[0m  convert(::Type{T}, \u001b[91m::T\u001b[39m) where T<:AbstractString\n\u001b[0m\u001b[90m   @\u001b[39m \u001b[90mBase\u001b[39m \u001b[90mstrings/\u001b[39m\u001b[90m\u001b[4mbasic.jl:231\u001b[24m\u001b[39m\n\u001b[0m  convert(::Type{T}, \u001b[91m::T\u001b[39m) where T\n\u001b[0m\u001b[90m   @\u001b[39m \u001b[90mBase\u001b[39m \u001b[90m\u001b[4mBase.jl:126\u001b[24m\u001b[39m\n\u001b[0m  convert(::Type{T}, \u001b[91m::AbstractString\u001b[39m) where T<:AbstractString\n\u001b[0m\u001b[90m   @\u001b[39m \u001b[90mBase\u001b[39m \u001b[90mstrings/\u001b[39m\u001b[90m\u001b[4mbasic.jl:232\u001b[24m\u001b[39m\n",
     "output_type": "error",
     "traceback": [
      "MethodError: \u001b[0mCannot `convert` an object of type \u001b[92mFloat64\u001b[39m\u001b[0m to an object of type \u001b[91mString31\u001b[39m\nThe function `convert` exists, but no method is defined for this combination of argument types.\n\n\u001b[0mClosest candidates are:\n\u001b[0m  convert(::Type{T}, \u001b[91m::T\u001b[39m) where T<:AbstractString\n\u001b[0m\u001b[90m   @\u001b[39m \u001b[90mBase\u001b[39m \u001b[90mstrings/\u001b[39m\u001b[90m\u001b[4mbasic.jl:231\u001b[24m\u001b[39m\n\u001b[0m  convert(::Type{T}, \u001b[91m::T\u001b[39m) where T\n\u001b[0m\u001b[90m   @\u001b[39m \u001b[90mBase\u001b[39m \u001b[90m\u001b[4mBase.jl:126\u001b[24m\u001b[39m\n\u001b[0m  convert(::Type{T}, \u001b[91m::AbstractString\u001b[39m) where T<:AbstractString\n\u001b[0m\u001b[90m   @\u001b[39m \u001b[90mBase\u001b[39m \u001b[90mstrings/\u001b[39m\u001b[90m\u001b[4mbasic.jl:232\u001b[24m\u001b[39m\n",
      "",
      "Stacktrace:",
      " [1] getpoolidx(pa::PooledArrays.PooledVector{String31, UInt32, Vector{UInt32}}, val::Float64)",
      "   @ PooledArrays ~/.julia/packages/PooledArrays/Vy2X0/src/PooledArrays.jl:553",
      " [2] setindex!(x::PooledArrays.PooledVector{String31, UInt32, Vector{UInt32}}, val::Float64, ind::Int64)",
      "   @ PooledArrays ~/.julia/packages/PooledArrays/Vy2X0/src/PooledArrays.jl:588",
      " [3] top-level scope",
      "   @ ./In[50]:2"
     ]
    }
   ],
   "source": [
    "for i in length(qcdf.Column2)\n",
    "    qcdf.Column2[i] = parse(Float64,replace(qcdf.Column2[i], \"[\" => \"\", \"]\" => \"\"))\n",
    "end"
   ]
  },
  {
   "cell_type": "code",
   "execution_count": 51,
   "metadata": {},
   "outputs": [
    {
     "ename": "LoadError",
     "evalue": "ArgumentError: cannot parse \"\" as Float16",
     "output_type": "error",
     "traceback": [
      "ArgumentError: cannot parse \"\" as Float16",
      "",
      "Stacktrace:",
      " [1] _parse_failure(T::Type, s::String, startpos::Int64, endpos::Int64)",
      "   @ Base ./parse.jl:388",
      " [2] #tryparse_internal#621",
      "   @ ./parse.jl:384 [inlined]",
      " [3] tryparse_internal",
      "   @ ./parse.jl:381 [inlined]",
      " [4] parse(::Type{Float16}, s::String)",
      "   @ Base ./parse.jl:394",
      " [5] top-level scope",
      "   @ In[51]:1"
     ]
    }
   ],
   "source": [
    "parse(Float16, \"\")"
   ]
  },
  {
   "cell_type": "markdown",
   "metadata": {},
   "source": [
    "## Creating algo circuit"
   ]
  },
  {
   "cell_type": "code",
   "execution_count": 6,
   "metadata": {},
   "outputs": [
    {
     "data": {
      "text/plain": [
       "ki_circ_modified (generic function with 1 method)"
      ]
     },
     "metadata": {},
     "output_type": "display_data"
    }
   ],
   "source": [
    "function ki_circ_modified(L::Integer,J::Float64, b::Float64, num_steps::Integer, hi::Float64)\n",
    "    circuit::Vector{Gate} = []\n",
    "    thetas::Vector{Float64} = []\n",
    "\n",
    "    push!(circuit, CliffordGate(:H, 1))\n",
    "\n",
    "    for q in 2:2:L\n",
    "        push!(circuit, CliffordGate(:H, q))\n",
    "        push!(circuit, CliffordGate(:X, q+1))\n",
    "        push!(circuit, CliffordGate(:CNOT, (q,q+1)))\n",
    "    end\n",
    "\n",
    "    for jj in 1:num_steps\n",
    "        print(\"Step :\",jj,\"\\n\")\n",
    "        print(\"jj-1%2 = \", jj-1%2, \"\\n\")\n",
    "        if (jj-1 )% 2 == 0\n",
    "            print(\"Biglayer\\n\")\n",
    "            for ii in 1:2:L-1\n",
    "                # RZZ\n",
    "                push!(circuit, PauliGate([:Z,:Z], (ii, ii+1)))\n",
    "                push!(thetas,  2*J)\n",
    "\n",
    "                #RZ\n",
    "                push!(circuit, PauliGate(:Z, ii))\n",
    "                push!(thetas, hi)\n",
    "\n",
    "                #RX\n",
    "                push!(circuit, PauliGate(:X, ii))\n",
    "                push!(thetas, 2*b)\n",
    "                push!(circuit, PauliGate(:X, ii+1))\n",
    "                push!(thetas, 2*b)\n",
    "\n",
    "                # RZZ\n",
    "                push!(circuit, PauliGate([:Z,:Z], (ii, ii+1)))\n",
    "                push!(thetas,  2*J)\n",
    "\n",
    "                #RZ\n",
    "                push!(circuit, PauliGate(:Z, ii))\n",
    "                push!(thetas, hi)\n",
    "            end\n",
    "        \n",
    "\n",
    "        elseif (jj-1)%2 == 1\n",
    "            print(\"Smalllayer\\n\")\n",
    "            for ii in 1:2:L-2\n",
    "                # RZZ\n",
    "                push!(circuit, PauliGate([:Z,:Z], (ii+1, ii+2)))\n",
    "                push!(thetas,  2*J)\n",
    "                \n",
    "\n",
    "                #RZ\n",
    "                push!(circuit, PauliGate(:Z, ii+1))\n",
    "                push!(thetas, hi)\n",
    "\n",
    "                #RX\n",
    "                push!(circuit, PauliGate(:X, ii+1))\n",
    "                push!(thetas, 2*b)\n",
    "                push!(circuit, PauliGate(:X, ii+2))\n",
    "                push!(thetas, 2*b)\n",
    "\n",
    "                # RZZ\n",
    "                push!(circuit, PauliGate([:Z,:Z], (ii+1, ii+2)))\n",
    "                push!(thetas,  2*J)\n",
    "\n",
    "                #RZ\n",
    "                push!(circuit, PauliGate(:Z, ii))\n",
    "                push!(thetas, hi)\n",
    "            end\n",
    "        end\n",
    "    end\n",
    "\n",
    "    return circuit, thetas\n",
    "\n",
    "end\n",
    "\n"
   ]
  },
  {
   "cell_type": "code",
   "execution_count": 7,
   "metadata": {},
   "outputs": [
    {
     "name": "stdout",
     "output_type": "stream",
     "text": [
      "Step :1\n",
      "jj-1%2 = 0\n",
      "Biglayer\n",
      "Step :2\n",
      "jj-1%2 = 1\n",
      "Smalllayer\n",
      "Step :3\n",
      "jj-1%2 = 2\n",
      "Biglayer\n",
      "Step :4\n",
      "jj-1%2 = 3\n",
      "Smalllayer\n",
      "Step :5\n",
      "jj-1%2 = 4\n",
      "Biglayer\n",
      "CliffordGate(:H, [1])\n",
      "CliffordGate(:H, [2])\n",
      "CliffordGate(:X, [3])\n",
      "CliffordGate(:CNOT, [2, 3])\n",
      "CliffordGate(:H, [4])\n",
      "CliffordGate(:X, [5])\n",
      "CliffordGate(:CNOT, [4, 5])\n",
      "CliffordGate(:H, [6])\n",
      "CliffordGate(:X, [7])\n",
      "CliffordGate(:CNOT, [6, 7])\n",
      "CliffordGate(:H, [8])\n",
      "CliffordGate(:X, [9])\n",
      "CliffordGate(:CNOT, [8, 9])\n",
      "CliffordGate(:H, [10])\n",
      "CliffordGate(:X, [11])\n",
      "CliffordGate(:CNOT, [10, 11])\n",
      "PauliGate([:Z, :Z], [1, 2])\n",
      "PauliGate([:Z], [1])\n",
      "PauliGate([:X], [1])\n",
      "PauliGate([:X], [2])\n",
      "PauliGate([:Z, :Z], [1, 2])\n",
      "PauliGate([:Z], [1])\n",
      "PauliGate([:Z, :Z], [3, 4])\n",
      "PauliGate([:Z], [3])\n",
      "PauliGate([:X], [3])\n",
      "PauliGate([:X], [4])\n",
      "PauliGate([:Z, :Z], [3, 4])\n",
      "PauliGate([:Z], [3])\n",
      "PauliGate([:Z, :Z], [5, 6])\n",
      "PauliGate([:Z], [5])\n",
      "PauliGate([:X], [5])\n",
      "PauliGate([:X], [6])\n",
      "PauliGate([:Z, :Z], [5, 6])\n",
      "PauliGate([:Z], [5])\n",
      "PauliGate([:Z, :Z], [7, 8])\n",
      "PauliGate([:Z], [7])\n",
      "PauliGate([:X], [7])\n",
      "PauliGate([:X], [8])\n",
      "PauliGate([:Z, :Z], [7, 8])\n",
      "PauliGate([:Z], [7])\n",
      "PauliGate([:Z, :Z], [9, 10])\n",
      "PauliGate([:Z], [9])\n",
      "PauliGate([:X], [9])\n",
      "PauliGate([:X], [10])\n",
      "PauliGate([:Z, :Z], [9, 10])\n",
      "PauliGate([:Z], [9])\n",
      "PauliGate([:Z, :Z], [2, 3])\n",
      "PauliGate([:Z], [2])\n",
      "PauliGate([:X], [2])\n",
      "PauliGate([:X], [3])\n",
      "PauliGate([:Z, :Z], [2, 3])\n",
      "PauliGate([:Z], [1])\n",
      "PauliGate([:Z, :Z], [4, 5])\n",
      "PauliGate([:Z], [4])\n",
      "PauliGate([:X], [4])\n",
      "PauliGate([:X], [5])\n",
      "PauliGate([:Z, :Z], [4, 5])\n",
      "PauliGate([:Z], [3])\n",
      "PauliGate([:Z, :Z], [6, 7])\n",
      "PauliGate([:Z], [6])\n",
      "PauliGate([:X], [6])\n",
      "PauliGate([:X], [7])\n",
      "PauliGate([:Z, :Z], [6, 7])\n",
      "PauliGate([:Z], [5])\n",
      "PauliGate([:Z, :Z], [8, 9])\n",
      "PauliGate([:Z], [8])\n",
      "PauliGate([:X], [8])\n",
      "PauliGate([:X], [9])\n",
      "PauliGate([:Z, :Z], [8, 9])\n",
      "PauliGate([:Z], [7])\n",
      "PauliGate([:Z, :Z], [10, 11])\n",
      "PauliGate([:Z], [10])\n",
      "PauliGate([:X], [10])\n",
      "PauliGate([:X], [11])\n",
      "PauliGate([:Z, :Z], [10, 11])\n",
      "PauliGate([:Z], [9])\n",
      "PauliGate([:Z, :Z], [1, 2])\n",
      "PauliGate([:Z], [1])\n",
      "PauliGate([:X], [1])\n",
      "PauliGate([:X], [2])\n",
      "PauliGate([:Z, :Z], [1, 2])\n",
      "PauliGate([:Z], [1])\n",
      "PauliGate([:Z, :Z], [3, 4])\n",
      "PauliGate([:Z], [3])\n",
      "PauliGate([:X], [3])\n",
      "PauliGate([:X], [4])\n",
      "PauliGate([:Z, :Z], [3, 4])\n",
      "PauliGate([:Z], [3])\n",
      "PauliGate([:Z, :Z], [5, 6])\n",
      "PauliGate([:Z], [5])\n",
      "PauliGate([:X], [5])\n",
      "PauliGate([:X], [6])\n",
      "PauliGate([:Z, :Z], [5, 6])\n",
      "PauliGate([:Z], [5])\n",
      "PauliGate([:Z, :Z], [7, 8])\n",
      "PauliGate([:Z], [7])\n",
      "PauliGate([:X], [7])\n",
      "PauliGate([:X], [8])\n",
      "PauliGate([:Z, :Z], [7, 8])\n",
      "PauliGate([:Z], [7])\n",
      "PauliGate([:Z, :Z], [9, 10])\n",
      "PauliGate([:Z], [9])\n",
      "PauliGate([:X], [9])\n",
      "PauliGate([:X], [10])\n",
      "PauliGate([:Z, :Z], [9, 10])\n",
      "PauliGate([:Z], [9])\n",
      "PauliGate([:Z, :Z], [2, 3])\n",
      "PauliGate([:Z], [2])\n",
      "PauliGate([:X], [2])\n",
      "PauliGate([:X], [3])\n",
      "PauliGate([:Z, :Z], [2, 3])\n",
      "PauliGate([:Z], [1])\n",
      "PauliGate([:Z, :Z], [4, 5])\n",
      "PauliGate([:Z], [4])\n",
      "PauliGate([:X], [4])\n",
      "PauliGate([:X], [5])\n",
      "PauliGate([:Z, :Z], [4, 5])\n",
      "PauliGate([:Z], [3])\n",
      "PauliGate([:Z, :Z], [6, 7])\n",
      "PauliGate([:Z], [6])\n",
      "PauliGate([:X], [6])\n",
      "PauliGate([:X], [7])\n",
      "PauliGate([:Z, :Z], [6, 7])\n",
      "PauliGate([:Z], [5])\n",
      "PauliGate([:Z, :Z], [8, 9])\n",
      "PauliGate([:Z], [8])\n",
      "PauliGate([:X], [8])\n",
      "PauliGate([:X], [9])\n",
      "PauliGate([:Z, :Z], [8, 9])\n",
      "PauliGate([:Z], [7])\n",
      "PauliGate([:Z, :Z], [10, 11])\n",
      "PauliGate([:Z], [10])\n",
      "PauliGate([:X], [10])\n",
      "PauliGate([:X], [11])\n",
      "PauliGate([:Z, :Z], [10, 11])\n",
      "PauliGate([:Z], [9])\n",
      "PauliGate([:Z, :Z], [1, 2])\n",
      "PauliGate([:Z], [1])\n",
      "PauliGate([:X], [1])\n",
      "PauliGate([:X], [2])\n",
      "PauliGate([:Z, :Z], [1, 2])\n",
      "PauliGate([:Z], [1])\n",
      "PauliGate([:Z, :Z], [3, 4])\n",
      "PauliGate([:Z], [3])\n",
      "PauliGate([:X], [3])\n",
      "PauliGate([:X], [4])\n",
      "PauliGate([:Z, :Z], [3, 4])\n",
      "PauliGate([:Z], [3])\n",
      "PauliGate([:Z, :Z], [5, 6])\n",
      "PauliGate([:Z], [5])\n",
      "PauliGate([:X], [5])\n",
      "PauliGate([:X], [6])\n",
      "PauliGate([:Z, :Z], [5, 6])\n",
      "PauliGate([:Z], [5])\n",
      "PauliGate([:Z, :Z], [7, 8])\n",
      "PauliGate([:Z], [7])\n",
      "PauliGate([:X], [7])\n",
      "PauliGate([:X], [8])\n",
      "PauliGate([:Z, :Z], [7, 8])\n",
      "PauliGate([:Z], [7])\n",
      "PauliGate([:Z, :Z], [9, 10])\n",
      "PauliGate([:Z], [9])\n",
      "PauliGate([:X], [9])\n",
      "PauliGate([:X], [10])\n",
      "PauliGate([:Z, :Z], [9, 10])\n",
      "PauliGate([:Z], [9])\n"
     ]
    }
   ],
   "source": [
    "v1, v2 = ki_circ_modified(11, pi/4, pi/4, 5, 0.7)\n",
    "for i in v1\n",
    "    print(i,\"\\n\")\n",
    "end"
   ]
  },
  {
   "cell_type": "code",
   "execution_count": 8,
   "metadata": {},
   "outputs": [
    {
     "name": "stdout",
     "output_type": "stream",
     "text": [
      "0.7\n",
      "1.5707963267948966\n",
      "1.5707963267948966\n",
      "1.5707963267948966\n",
      "0.7\n",
      "1.5707963267948966\n",
      "0.7\n",
      "1.5707963267948966\n",
      "1.5707963267948966\n",
      "1.5707963267948966\n",
      "0.7\n",
      "1.5707963267948966\n",
      "0.7\n",
      "1.5707963267948966\n",
      "1.5707963267948966\n",
      "1.5707963267948966\n",
      "0.7\n",
      "1.5707963267948966\n",
      "0.7\n",
      "1.5707963267948966\n",
      "1.5707963267948966\n",
      "1.5707963267948966\n",
      "0.7\n",
      "1.5707963267948966\n",
      "0.7\n",
      "1.5707963267948966\n",
      "1.5707963267948966\n",
      "1.5707963267948966\n",
      "0.7\n",
      "1.5707963267948966\n",
      "0.7\n",
      "1.5707963267948966\n",
      "1.5707963267948966\n",
      "1.5707963267948966\n",
      "0.7\n",
      "1.5707963267948966\n",
      "0.7\n",
      "1.5707963267948966\n",
      "1.5707963267948966\n",
      "1.5707963267948966\n",
      "0.7\n",
      "1.5707963267948966\n",
      "0.7\n",
      "1.5707963267948966\n",
      "1.5707963267948966\n",
      "1.5707963267948966\n",
      "0.7\n",
      "1.5707963267948966\n",
      "0.7\n",
      "1.5707963267948966\n",
      "1.5707963267948966\n",
      "1.5707963267948966\n",
      "0.7\n",
      "1.5707963267948966\n",
      "0.7\n",
      "1.5707963267948966\n",
      "1.5707963267948966\n",
      "1.5707963267948966\n",
      "0.7\n",
      "1.5707963267948966\n",
      "0.7\n",
      "1.5707963267948966\n",
      "1.5707963267948966\n",
      "1.5707963267948966\n",
      "0.7\n",
      "1.5707963267948966\n",
      "0.7\n",
      "1.5707963267948966\n",
      "1.5707963267948966\n",
      "1.5707963267948966\n",
      "0.7\n",
      "1.5707963267948966\n",
      "0.7\n",
      "1.5707963267948966\n",
      "1.5707963267948966\n",
      "1.5707963267948966\n",
      "0.7\n",
      "1.5707963267948966\n",
      "0.7\n",
      "1.5707963267948966\n",
      "1.5707963267948966\n",
      "1.5707963267948966\n",
      "0.7\n",
      "1.5707963267948966\n",
      "0.7\n",
      "1.5707963267948966\n",
      "1.5707963267948966\n",
      "1.5707963267948966\n",
      "0.7\n",
      "1.5707963267948966\n",
      "0.7\n",
      "1.5707963267948966\n",
      "1.5707963267948966\n",
      "1.5707963267948966\n",
      "0.7\n",
      "1.5707963267948966\n",
      "0.7\n",
      "1.5707963267948966\n",
      "1.5707963267948966\n",
      "1.5707963267948966\n",
      "0.7\n",
      "1.5707963267948966\n",
      "0.7\n",
      "1.5707963267948966\n",
      "1.5707963267948966\n",
      "1.5707963267948966\n",
      "0.7\n",
      "1.5707963267948966\n",
      "0.7\n",
      "1.5707963267948966\n",
      "1.5707963267948966\n",
      "1.5707963267948966\n",
      "0.7\n",
      "1.5707963267948966\n",
      "0.7\n",
      "1.5707963267948966\n",
      "1.5707963267948966\n",
      "1.5707963267948966\n",
      "0.7\n",
      "1.5707963267948966\n",
      "0.7\n",
      "1.5707963267948966\n",
      "1.5707963267948966\n",
      "1.5707963267948966\n",
      "0.7\n",
      "1.5707963267948966\n",
      "0.7\n",
      "1.5707963267948966\n",
      "1.5707963267948966\n",
      "1.5707963267948966\n",
      "0.7\n",
      "1.5707963267948966\n",
      "0.7\n",
      "1.5707963267948966\n",
      "1.5707963267948966\n",
      "1.5707963267948966\n",
      "0.7\n",
      "1.5707963267948966\n",
      "0.7\n",
      "1.5707963267948966\n",
      "1.5707963267948966\n",
      "1.5707963267948966\n",
      "0.7\n",
      "1.5707963267948966\n",
      "0.7\n",
      "1.5707963267948966\n",
      "1.5707963267948966\n",
      "1.5707963267948966\n",
      "0.7\n",
      "1.5707963267948966\n"
     ]
    }
   ],
   "source": [
    "for v in reverse(v2)\n",
    "    print(v,\"\\n\")\n",
    "end"
   ]
  },
  {
   "cell_type": "code",
   "execution_count": 121,
   "metadata": {},
   "outputs": [
    {
     "data": {
      "text/plain": [
       "5"
      ]
     },
     "execution_count": 121,
     "metadata": {},
     "output_type": "execute_result"
    }
   ],
   "source": [
    "5-2%2"
   ]
  },
  {
   "cell_type": "markdown",
   "metadata": {},
   "source": [
    "## Propagate in Algo circuit"
   ]
  },
  {
   "cell_type": "code",
   "execution_count": 12,
   "metadata": {},
   "outputs": [
    {
     "data": {
      "text/plain": [
       "PauliString(nqubits: 11, 1.0 * IIIIIXIIIII)"
      ]
     },
     "metadata": {},
     "output_type": "display_data"
    }
   ],
   "source": [
    "nq = 11\n",
    "pstr = PauliString(nq, :X, round(Int, nq/2))"
   ]
  },
  {
   "cell_type": "code",
   "execution_count": 13,
   "metadata": {},
   "outputs": [
    {
     "name": "stdout",
     "output_type": "stream",
     "text": [
      "Step :1\n",
      "jj-1%2 = 0\n",
      "Biglayer\n",
      "Step :2\n",
      "jj-1%2 = 1\n",
      "Smalllayer\n",
      "Step :3\n",
      "jj-1%2 = 2\n",
      "Biglayer\n",
      "Step :4\n",
      "jj-1%2 = 3\n",
      "Smalllayer\n",
      "Step :5\n",
      "jj-1%2 = 4\n",
      "Biglayer\n"
     ]
    },
    {
     "data": {
      "text/plain": [
       "150"
      ]
     },
     "metadata": {},
     "output_type": "display_data"
    }
   ],
   "source": [
    "circuit, thetas = ki_circ_modified(11, pi/4, pi/4, 5, 0.7);\n",
    "countparameters(circuit)"
   ]
  },
  {
   "cell_type": "code",
   "execution_count": 14,
   "metadata": {},
   "outputs": [
    {
     "data": {
      "text/plain": [
       "150"
      ]
     },
     "metadata": {},
     "output_type": "display_data"
    }
   ],
   "source": [
    "length(thetas)"
   ]
  },
  {
   "cell_type": "code",
   "execution_count": 15,
   "metadata": {},
   "outputs": [
    {
     "ename": "UndefVarError",
     "evalue": "UndefVarError: `propagate` not defined in `Main`\nSuggestion: check for spelling errors or missing imports.",
     "output_type": "error",
     "traceback": [
      "UndefVarError: `propagate` not defined in `Main`\n",
      "Suggestion: check for spelling errors or missing imports.\n",
      "\n",
      "Stacktrace:\n",
      " [1] top-level scope\n",
      "   @ ~/Library/CloudStorage/OneDrive-Algorithmiq/Desktop/Codes/PauliPathjl/PauliPropagation.jl/examples/jl_notebook_cell_df34fa98e69747e1a8f8a730347b8e2f_X53sZmlsZQ==.jl:1"
     ]
    }
   ],
   "source": [
    "psum = propagate(circuit, pstr, thetas; max_weight = 2 )"
   ]
  },
  {
   "cell_type": "code",
   "execution_count": 168,
   "metadata": {},
   "outputs": [
    {
     "data": {
      "text/plain": [
       "-0.010376263071247546"
      ]
     },
     "execution_count": 168,
     "metadata": {},
     "output_type": "execute_result"
    }
   ],
   "source": [
    "overlapwithzero(psum)"
   ]
  },
  {
   "cell_type": "code",
   "execution_count": 99,
   "metadata": {},
   "outputs": [
    {
     "data": {
      "text/plain": [
       "π = 3.1415926535897..."
      ]
     },
     "execution_count": 99,
     "metadata": {},
     "output_type": "execute_result"
    }
   ],
   "source": [
    "pi"
   ]
  },
  {
   "cell_type": "code",
   "execution_count": 68,
   "metadata": {},
   "outputs": [
    {
     "data": {
      "text/plain": [
       "1"
      ]
     },
     "execution_count": 68,
     "metadata": {},
     "output_type": "execute_result"
    }
   ],
   "source": [
    "qc::Vector{Gate} = []\n",
    "params::Vector{Float64} = []\n",
    "push!(qc, CliffordGate(:H, 1))\n",
    "push!(qc, CliffordGate(:H, 2))\n",
    "push!(qc, CliffordGate((:CNOT), (1,2)))\n",
    "push!(qc, PauliGate(:Z,2))\n",
    "push!(params, pi)\n",
    "push!(qc, CliffordGate((:CNOT), (1,2)))\n",
    "push!(qc, CliffordGate(:H, 1))\n",
    "push!(qc, CliffordGate(:H, 2))\n",
    "\n",
    "countparameters(qc)"
   ]
  },
  {
   "cell_type": "code",
   "execution_count": 69,
   "metadata": {},
   "outputs": [
    {
     "data": {
      "text/plain": [
       "PauliString(nqubits: 2, 1.0 * ZZ)"
      ]
     },
     "execution_count": 69,
     "metadata": {},
     "output_type": "execute_result"
    }
   ],
   "source": [
    "ps = PauliString(2, [:Z,:Z],[1,2])"
   ]
  },
  {
   "cell_type": "code",
   "execution_count": 70,
   "metadata": {},
   "outputs": [
    {
     "data": {
      "text/plain": [
       "PauliSum(nqubits: 2, 1 Pauli term: \n",
       " 1.0 * ZZ\n",
       ")"
      ]
     },
     "execution_count": 70,
     "metadata": {},
     "output_type": "execute_result"
    }
   ],
   "source": [
    "psum = propagate(qc, ps, params)"
   ]
  },
  {
   "cell_type": "code",
   "execution_count": null,
   "metadata": {},
   "outputs": [],
   "source": []
  },
  {
   "cell_type": "code",
   "execution_count": 71,
   "metadata": {},
   "outputs": [
    {
     "data": {
      "text/plain": [
       "1"
      ]
     },
     "execution_count": 71,
     "metadata": {},
     "output_type": "execute_result"
    }
   ],
   "source": [
    "qc::Vector{Gate} = []\n",
    "params::Vector{Float64} = []\n",
    "push!(qc, CliffordGate(:H, 1))\n",
    "push!(qc, CliffordGate(:H, 2))\n",
    "push!(qc, PauliGate([:Z,:Z],(1,2)))\n",
    "push!(params, pi)\n",
    "\n",
    "push!(qc, CliffordGate(:H, 2))\n",
    "\n",
    "countparameters(qc)"
   ]
  },
  {
   "cell_type": "code",
   "execution_count": 72,
   "metadata": {},
   "outputs": [
    {
     "data": {
      "text/plain": [
       "PauliString(nqubits: 2, 1.0 * ZZ)"
      ]
     },
     "execution_count": 72,
     "metadata": {},
     "output_type": "execute_result"
    }
   ],
   "source": [
    "ps = PauliString(2, [:Z,:Z],[1,2])"
   ]
  },
  {
   "cell_type": "code",
   "execution_count": 73,
   "metadata": {},
   "outputs": [
    {
     "data": {
      "text/plain": [
       "PauliSum(nqubits: 2, 1 Pauli term: \n",
       " -1.0 * XZ\n",
       ")"
      ]
     },
     "execution_count": 73,
     "metadata": {},
     "output_type": "execute_result"
    }
   ],
   "source": [
    "psum = propagate(qc, ps, params)"
   ]
  },
  {
   "cell_type": "code",
   "execution_count": 52,
   "metadata": {},
   "outputs": [
    {
     "data": {
      "text/plain": [
       "-1.0"
      ]
     },
     "execution_count": 52,
     "metadata": {},
     "output_type": "execute_result"
    }
   ],
   "source": [
    "overlapwithzero(psum)"
   ]
  },
  {
   "cell_type": "code",
   "execution_count": 12,
   "metadata": {},
   "outputs": [
    {
     "data": {
      "text/plain": [
       "6-element Vector{Gate}:\n",
       " CliffordGate(:H, [1])\n",
       " CliffordGate(:H, [2])\n",
       " PauliGate([:Z], [1])\n",
       " PauliGate([:Z], [2])\n",
       " PauliGate([:X], [1])\n",
       " PauliGate([:X], [2])"
      ]
     },
     "execution_count": 12,
     "metadata": {},
     "output_type": "execute_result"
    }
   ],
   "source": [
    "qc"
   ]
  },
  {
   "cell_type": "code",
   "execution_count": null,
   "metadata": {},
   "outputs": [],
   "source": []
  },
  {
   "cell_type": "code",
   "execution_count": 23,
   "metadata": {},
   "outputs": [
    {
     "data": {
      "text/plain": [
       "1"
      ]
     },
     "execution_count": 23,
     "metadata": {},
     "output_type": "execute_result"
    }
   ],
   "source": [
    "qc::Vector{Gate} = []\n",
    "params::Vector{Float64} = []\n",
    "#push!(qc, CliffordGate(:H, 1))\n",
    "push!(qc, PauliGate(:X,1))\n",
    "push!(params, pi)\n",
    "#push!(qc, CliffordGate(:H, 1))\n",
    "\n",
    "\n",
    "countparameters(qc)"
   ]
  },
  {
   "cell_type": "code",
   "execution_count": 24,
   "metadata": {},
   "outputs": [
    {
     "data": {
      "text/plain": [
       "PauliSum(nqubits: 2, 1 Pauli term: \n",
       " 1.0 * II\n",
       ")"
      ]
     },
     "execution_count": 24,
     "metadata": {},
     "output_type": "execute_result"
    }
   ],
   "source": [
    "psum = propagate(qc, ps, params)"
   ]
  },
  {
   "cell_type": "code",
   "execution_count": 32,
   "metadata": {},
   "outputs": [
    {
     "data": {
      "text/plain": [
       "PauliString(nqubits: 1, 1.0 * Z)"
      ]
     },
     "execution_count": 32,
     "metadata": {},
     "output_type": "execute_result"
    }
   ],
   "source": [
    "ps = PauliString(1, :Z,1)"
   ]
  },
  {
   "cell_type": "code",
   "execution_count": 35,
   "metadata": {},
   "outputs": [
    {
     "data": {
      "text/plain": [
       "(PauliString(nqubits: 1, -1.0 * Z), PauliString(nqubits: 1, 0.0 * Y))"
      ]
     },
     "execution_count": 35,
     "metadata": {},
     "output_type": "execute_result"
    }
   ],
   "source": [
    "apply(PauliGate(:X, 1), ps, pi)"
   ]
  },
  {
   "cell_type": "code",
   "execution_count": 78,
   "metadata": {},
   "outputs": [
    {
     "name": "stdout",
     "output_type": "stream",
     "text": [
      "246810"
     ]
    }
   ],
   "source": [
    "for k in 2:2:11-1\n",
    "    print(k)\n",
    "end"
   ]
  },
  {
   "cell_type": "code",
   "execution_count": 105,
   "metadata": {},
   "outputs": [
    {
     "data": {
      "text/plain": [
       "1.0"
      ]
     },
     "execution_count": 105,
     "metadata": {},
     "output_type": "execute_result"
    }
   ],
   "source": [
    "qc::Vector{Gate} = []\n",
    "pm::Vector{Number} = []\n",
    "push!(qc, PauliGate(:X, 0))\n",
    "push!(pm, pi)\n",
    "pstr = PauliString(1, :Z, 1)\n",
    "psum = propagate(qc, pstr, pm)\n",
    "overlapwithzero(psum)"
   ]
  },
  {
   "cell_type": "code",
   "execution_count": 17,
   "metadata": {},
   "outputs": [
    {
     "ename": "UndefVarError",
     "evalue": "UndefVarError: `PauliAlgebra` not defined in `PauliPropagation`\nSuggestion: check for spelling errors or missing imports.",
     "output_type": "error",
     "traceback": [
      "UndefVarError: `PauliAlgebra` not defined in `PauliPropagation`\n",
      "Suggestion: check for spelling errors or missing imports.\n",
      "\n",
      "Stacktrace:\n",
      "  [1] eval\n",
      "    @ ./boot.jl:430 [inlined]\n",
      "  [2] include_string(mapexpr::typeof(REPL.softscope), mod::Module, code::String, filename::String)\n",
      "    @ Base ./loading.jl:2643\n",
      "  [3] #invokelatest#2\n",
      "    @ ./essentials.jl:1055 [inlined]\n",
      "  [4] invokelatest\n",
      "    @ ./essentials.jl:1052 [inlined]\n",
      "  [5] (::VSCodeServer.var\"#217#218\"{VSCodeServer.NotebookRunCellArguments, String})()\n",
      "    @ VSCodeServer ~/.vscode/extensions/julialang.language-julia-1.127.2/scripts/packages/VSCodeServer/src/serve_notebook.jl:24\n",
      "  [6] withpath(f::VSCodeServer.var\"#217#218\"{VSCodeServer.NotebookRunCellArguments, String}, path::String)\n",
      "    @ VSCodeServer ~/.vscode/extensions/julialang.language-julia-1.127.2/scripts/packages/VSCodeServer/src/repl.jl:276\n",
      "  [7] notebook_runcell_request(conn::VSCodeServer.JSONRPC.JSONRPCEndpoint{Base.PipeEndpoint, Base.PipeEndpoint}, params::VSCodeServer.NotebookRunCellArguments)\n",
      "    @ VSCodeServer ~/.vscode/extensions/julialang.language-julia-1.127.2/scripts/packages/VSCodeServer/src/serve_notebook.jl:13\n",
      "  [8] dispatch_msg(x::VSCodeServer.JSONRPC.JSONRPCEndpoint{Base.PipeEndpoint, Base.PipeEndpoint}, dispatcher::VSCodeServer.JSONRPC.MsgDispatcher, msg::Dict{String, Any})\n",
      "    @ VSCodeServer.JSONRPC ~/.vscode/extensions/julialang.language-julia-1.127.2/scripts/packages/JSONRPC/src/typed.jl:67\n",
      "  [9] serve_notebook(pipename::String, debugger_pipename::String, outputchannel_logger::Base.CoreLogging.SimpleLogger; error_handler::var\"#5#10\"{String})\n",
      "    @ VSCodeServer ~/.vscode/extensions/julialang.language-julia-1.127.2/scripts/packages/VSCodeServer/src/serve_notebook.jl:147\n",
      " [10] top-level scope\n",
      "    @ ~/.vscode/extensions/julialang.language-julia-1.127.2/scripts/notebook/notebook.jl:35"
     ]
    }
   ],
   "source": [
    "using PauliPropagation.PauliAlgebra"
   ]
  },
  {
   "cell_type": "code",
   "execution_count": 18,
   "metadata": {},
   "outputs": [
    {
     "data": {
      "text/plain": [
       "_getprettystr (generic function with 1 method)"
      ]
     },
     "metadata": {},
     "output_type": "display_data"
    }
   ],
   "source": [
    "function _getprettystr(psum::Dict, nqubits::Int; max_lines=20)\n",
    "    str = \"\"\n",
    "    header = length(psum) == 1 ? \"1 Pauli term: \\n\" : \"$(length(psum)) Pauli terms:\\n\"\n",
    "    str *= header\n",
    "\n",
    "    for (ii, (op, coeff)) in enumerate(psum)\n",
    "        if ii > max_lines\n",
    "            new_str = \"  ⋮\"\n",
    "            str *= new_str\n",
    "            break\n",
    "        end\n",
    "        pauli_string = inttostring(op, nqubits)\n",
    "        if length(pauli_string) > 20\n",
    "            pauli_string = pauli_string[1:20] * \"...\"\n",
    "        end\n",
    "        if isa(coeff, Number)\n",
    "            coeff_str = round(coeff, sigdigits=5)\n",
    "        elseif isa(coeff, PathProperties)\n",
    "            if isa(coeff.coeff, Number)\n",
    "                coeff_str = \"PathProperty($(round(coeff.coeff, sigdigits=5)))\"\n",
    "            else\n",
    "                coeff_str = \"PathProperty($(typeof(coeff.coeff)))\"\n",
    "            end\n",
    "        else\n",
    "            coeff_str = \"($(typeof(coeff)))\"\n",
    "        end\n",
    "        new_str = \" $(coeff_str) * $(pauli_string)\\n\"\n",
    "        str *= new_str\n",
    "    end\n",
    "\n",
    "    return str\n",
    "\n",
    "end"
   ]
  },
  {
   "cell_type": "code",
   "execution_count": 26,
   "metadata": {},
   "outputs": [
    {
     "data": {
      "text/plain": [
       "\"1 Pauli term: \\n 1.0 * IIIIIXIIIII\\n\""
      ]
     },
     "metadata": {},
     "output_type": "display_data"
    }
   ],
   "source": [
    "_getprettystr(Dict(0x00000400 => 1.0), 11)"
   ]
  },
  {
   "cell_type": "code",
   "execution_count": null,
   "metadata": {},
   "outputs": [],
   "source": []
  }
 ],
 "metadata": {
  "kernelspec": {
   "display_name": "Julia 1.11.1",
   "language": "julia",
   "name": "julia-1.11"
  },
  "language_info": {
   "file_extension": ".jl",
   "mimetype": "application/julia",
   "name": "julia",
   "version": "1.11.1"
  }
 },
 "nbformat": 4,
 "nbformat_minor": 2
}
